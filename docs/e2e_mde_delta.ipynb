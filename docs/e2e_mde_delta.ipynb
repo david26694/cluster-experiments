{
 "cells": [
  {
   "cell_type": "markdown",
   "metadata": {},
   "source": [
    "# End-to-end example\n",
    "\n",
    "We'll show the different functionalities of delta method cluster_experiments, which are:\n",
    "* MDE calculation in cluster-randomized experiments with delta method and clustered standard errors.\n",
    "* MDE calculation with simple covariate adjustment using delta method.\n",
    "* MDE calculation with cupac (adjustment via ML models) using delta method.\n",
    "* Inference for all the cases above using delta method, and comparing with OLS with clustered standard errors.\n",
    "\n",
    "\n",
    "## Data generation\n",
    "\n",
    "We create some pre-experimental data that we could use to run power analysis.\n",
    "\n",
    "We have a dataframe with orders and customers, each customer may have many orders, and the two target metrics are delivery time and order value.\n",
    "\n"
   ]
  },
  {
   "cell_type": "code",
   "execution_count": null,
   "metadata": {},
   "outputs": [],
   "source": [
    "import random\n",
    "import warnings\n",
    "import time\n",
    "\n",
    "import numpy as np\n",
    "import pandas as pd\n",
    "import seaborn as sns\n",
    "\n",
    "from cluster_experiments import NormalPowerAnalysis\n",
    "\n",
    "\n",
    "\n",
    "warnings.filterwarnings('ignore')\n",
    "np.random.seed(42)\n",
    "random.seed(42)\n",
    "\n",
    "# Constants\n",
    "N = 100000  # Number of orders\n",
    "NUM_CUSTOMERS = 5000  # Unique customers\n",
    "\n",
    "def generate_customers(num_customers):\n",
    "    \"\"\"Generate unique customers with a mean order value based on age.\"\"\"\n",
    "    customer_ids = np.arange(1, num_customers + 1)\n",
    "    customer_ages = np.random.randint(20, 60, size=num_customers)\n",
    "    customer_historical_orders = np.random.poisson(5, size=num_customers)\n",
    "    mean_order_values = 50 + 2.5 * customer_ages - 2 * (customer_ages <= 30) + 2 * (customer_historical_orders >= 8) + np.random.normal(0, 15, size=num_customers)\n",
    "\n",
    "    return pd.DataFrame({\n",
    "        \"customer_id\": customer_ids,\n",
    "        \"customer_age\": customer_ages,\n",
    "        \"mean_order_value\": mean_order_values,\n",
    "        \"historical_orders\": customer_historical_orders\n",
    "    })\n",
    "\n",
    "def sample_orders(customers, num_orders):\n",
    "    \"\"\"Sample customers and generate order-level data.\"\"\"\n",
    "    sampled_customers = np.random.choice(customers[\"customer_id\"], size=num_orders)\n",
    "    return pd.DataFrame({\"customer_id\": sampled_customers}).merge(customers, on=\"customer_id\", how=\"left\")\n",
    "\n",
    "def generate_orders(customers, num_orders):\n",
    "    \"\"\"Full order generation pipeline using .assign() for cleaner transformations.\"\"\"\n",
    "    date_range = pd.date_range(start=\"2024-01-01\", end=\"2024-03-31\")\n",
    "\n",
    "    return (\n",
    "        sample_orders(customers, num_orders)\n",
    "        .assign(\n",
    "            order_value=lambda df: df[\"mean_order_value\"] + np.random.normal(0, 15, size=len(df)),\n",
    "            delivery_time=lambda df: 8 + np.sin(df[\"customer_id\"] / 10) + np.random.normal(0, 0.5, size=len(df)),\n",
    "            city=lambda df: np.random.choice([\"NYC\", \"LA\"], size=len(df)),\n",
    "            date=lambda df: np.random.choice(date_range, size=len(df))\n",
    "        )\n",
    "        .drop(columns=[\"mean_order_value\"])  # Remove intermediate column\n",
    "    )\n",
    "\n",
    "\n",
    "def plot_mdes(mdes, x_lim=40, y_value=3):\n",
    "    sns.lineplot(\n",
    "        data=pd.DataFrame(mdes),\n",
    "        x=\"experiment_length\",\n",
    "        y=\"mde\",\n",
    "    )\n",
    "\n",
    "    sns.lineplot(\n",
    "        x=[0, x_lim],\n",
    "        y=[y_value, y_value],\n",
    "        color=\"red\",\n",
    "        linestyle=\"--\",\n",
    "    )\n",
    "\n",
    "def get_length(mdes, mde_value):\n",
    "    if any(x[\"mde\"] <= mde_value for x in mdes):\n",
    "        return min(x[\"experiment_length\"] for x in mdes if x[\"mde\"] < mde_value)\n",
    "    return None\n",
    "\n",
    "def get_length_print(mdes, mde_value):\n",
    "    length = get_length(mdes, mde_value)\n",
    "    print(f\"Minimum experiment length to detect MDE of {mde_value}: {length}\")\n",
    "\n",
    "# Run the pipeline\n",
    "customers = generate_customers(NUM_CUSTOMERS)\n",
    "experiment_data = generate_orders(customers, N).assign(\n",
    "    one=1\n",
    ")\n",
    "\n",
    "print(experiment_data.head())\n"
   ]
  },
  {
   "cell_type": "markdown",
   "metadata": {},
   "source": [
    "## Power analysis\n",
    "\n"
   ]
  },
  {
   "cell_type": "markdown",
   "metadata": {},
   "source": [
    "### Customer-level split\n",
    "\n",
    "Assume we randomize at customer level, in this case we need to use delta to run the power analysis. The following code shows the mde on order_value given some experiment length (1, 2, 3 and 4 weeks)."
   ]
  },
  {
   "cell_type": "code",
   "execution_count": null,
   "metadata": {},
   "outputs": [],
   "source": [
    "mde = NormalPowerAnalysis.from_dict({\n",
    "    \"splitter\": \"clustered\",\n",
    "    \"analysis\": \"delta\",\n",
    "    \"time_col\": \"date\",\n",
    "    \"target_col\": \"order_value\",\n",
    "    \"scale_col\": \"one\",\n",
    "    \"cluster_cols\": [\"customer_id\"]\n",
    "})"
   ]
  },
  {
   "cell_type": "code",
   "execution_count": null,
   "metadata": {},
   "outputs": [],
   "source": [
    "start = time.time()\n",
    "mdes = mde.mde_time_line(\n",
    "    experiment_data,\n",
    "    powers=[0.8],\n",
    "    experiment_length=(7, 14, 21, 28),\n",
    "    n_simulations=5\n",
    ")\n",
    "print(f\"Time taken for MDE calculation: {time.time() - start:.2f} seconds\")"
   ]
  },
  {
   "cell_type": "code",
   "execution_count": null,
   "metadata": {},
   "outputs": [],
   "source": [
    "mde_value = 1.8\n",
    "plot_mdes(mdes, y_value=mde_value, x_lim=30)"
   ]
  },
  {
   "cell_type": "code",
   "execution_count": null,
   "metadata": {},
   "outputs": [],
   "source": [
    "get_length_print(mdes, mde_value)"
   ]
  },
  {
   "cell_type": "markdown",
   "metadata": {},
   "source": [
    "Check that results with clustered ols are the same"
   ]
  },
  {
   "cell_type": "code",
   "execution_count": null,
   "metadata": {},
   "outputs": [],
   "source": [
    "mde = NormalPowerAnalysis.from_dict({\n",
    "    \"splitter\": \"clustered\",\n",
    "    \"analysis\": \"clustered_ols\",\n",
    "    \"time_col\": \"date\",\n",
    "    \"target_col\": \"order_value\",\n",
    "    \"cluster_cols\": [\"customer_id\"]\n",
    "})\n",
    "\n",
    "start = time.time()\n",
    "mdes = mde.mde_time_line(\n",
    "    experiment_data,\n",
    "    powers=[0.8],\n",
    "    experiment_length=(7, 14, 21, 28),\n",
    "    n_simulations=5\n",
    ")\n",
    "print(f\"Time taken for OLS MDE calculation: {time.time() - start:.2f} seconds\")\n",
    "\n",
    "plot_mdes(mdes, y_value=mde_value, x_lim=30)\n",
    "get_length_print(mdes, mde_value)"
   ]
  },
  {
   "cell_type": "markdown",
   "metadata": {},
   "source": [
    "Results with clustered ols are the same as with delta method, but the delta method is faster and more efficient."
   ]
  },
  {
   "cell_type": "markdown",
   "metadata": {},
   "source": [
    "The age of the customer is a good predictor of the orde value that is not impacted by the treatment. We can use this covariate to adjust our analysis and decrease mde. We see that mde is smaller in this case, because we are using a covariate that is not impacted by the treatment.\n",
    "\n",
    "In delta method, we use this form of CUPED for variance reduction:\n",
    "\n",
    "$$\n",
    "ATE = \\frac{\\sum_{i=1}^N T_i (Y_i - \\sum_{j=1}^m \\theta_j (Z_{ij} - E[Z_j]))}{\\sum_{i=1}^N T_i N_i} - \\frac{\\sum_{i=1}^N (1 - T_i) (Y_i - \\sum_{j=1}^m \\theta_j (Z_{ij} - E[Z_j]))}{\\sum_{i=1}^N (1 - T_i) N_i}\n",
    "$$\n",
    "\n",
    "that is, we apply variance reduction to the numerator, but not the denominator. An issue is open to add the same variance reduction to the denominator, but it is not implemented yet."
   ]
  },
  {
   "cell_type": "code",
   "execution_count": null,
   "metadata": {},
   "outputs": [],
   "source": [
    "mde_variance_reduction = NormalPowerAnalysis.from_dict({\n",
    "    \"splitter\": \"clustered\",\n",
    "    \"analysis\": \"delta\",\n",
    "    \"time_col\": \"date\",\n",
    "    \"target_col\": \"order_value\",\n",
    "    \"scale_col\": \"one\",\n",
    "    \"cluster_cols\": [\"customer_id\"],\n",
    "    \"covariates\": [\"customer_age\"]\n",
    "})"
   ]
  },
  {
   "cell_type": "code",
   "execution_count": null,
   "metadata": {},
   "outputs": [],
   "source": [
    "mdes = []\n",
    "# should be simplified with aggregation logic in NormalPowerAnalysis\n",
    "for experiment_length in [7, 14, 21, 28]:\n",
    "    filtered_data = experiment_data[experiment_data[\"date\"] <= pd.Timestamp(\"2024-01-01\") + pd.Timedelta(days=experiment_length)]\n",
    "    aggregated_data = filtered_data.groupby(\"customer_id\").agg({\n",
    "        \"order_value\": \"sum\",\n",
    "        \"one\": \"sum\",\n",
    "        \"customer_age\": \"sum\",\n",
    "        \"date\": \"min\"\n",
    "    }).reset_index()\n",
    "\n",
    "    mde = mde_variance_reduction.mde_time_line(\n",
    "        aggregated_data,\n",
    "        powers=[0.8],\n",
    "        experiment_length=[experiment_length],\n",
    "        n_simulations=5\n",
    "    )\n",
    "    mdes.append(mde[0])"
   ]
  },
  {
   "cell_type": "code",
   "execution_count": null,
   "metadata": {},
   "outputs": [],
   "source": [
    "plot_mdes(mdes, y_value=mde_value, x_lim=30)"
   ]
  },
  {
   "cell_type": "code",
   "execution_count": null,
   "metadata": {},
   "outputs": [],
   "source": [
    "get_length_print(mdes, mde_value)"
   ]
  },
  {
   "cell_type": "markdown",
   "metadata": {},
   "source": [
    "Now we repeat the same using clustered standard errors with OLS. We see that the results are the same as with delta method."
   ]
  },
  {
   "cell_type": "code",
   "execution_count": null,
   "metadata": {},
   "outputs": [],
   "source": [
    "mde_variance_reduction_ols = NormalPowerAnalysis.from_dict({\n",
    "    \"splitter\": \"clustered\",\n",
    "    \"analysis\": \"clustered_ols\",\n",
    "    \"time_col\": \"date\",\n",
    "    \"target_col\": \"order_value\",\n",
    "    \"cluster_cols\": [\"customer_id\"],\n",
    "    \"covariates\": [\"customer_age\"]\n",
    "})\n",
    "\n",
    "mdes_ols_covariates = mde_variance_reduction_ols.mde_time_line(\n",
    "    experiment_data,\n",
    "    powers=[0.8],\n",
    "    experiment_length=[7, 14, 21, 28],\n",
    "    n_simulations=5\n",
    ")\n",
    "\n"
   ]
  },
  {
   "cell_type": "code",
   "execution_count": null,
   "metadata": {},
   "outputs": [],
   "source": [
    "plot_mdes(mdes_ols_covariates, y_value=mde_value, x_lim=30)"
   ]
  },
  {
   "cell_type": "markdown",
   "metadata": {},
   "source": [
    "This is the last example of power analysis.\n",
    "\n",
    "We assume data from Feb onwards is used to run the power analysis (it's the data we take as experimental, though it is actually pre-experimental data). Data from Jan is taken as pre-experimental data. We simulate that the experiment happened after Feb. We do this because we need pre-experimental data to train the Cupac Model, which we didn't do before.\n",
    "\n",
    "We use cupac model with customer id and age features (order value has a non-linear relationship with customer id, that's why we don't add it a single covariate). We use the same data as before, but we train the model with pre-experimental data. We see that mde is smaller in this case, because we are using a **better** covariate that is not impacted by the treatment.\n",
    "\n",
    "In this case we cannot init by dict because we're using cupac, but happy to review a PR that includes this :) In this case we need to create splitter and analysis classes."
   ]
  },
  {
   "cell_type": "code",
   "execution_count": null,
   "metadata": {},
   "outputs": [],
   "source": [
    "pre_experiment_df = experiment_data.query(\"date < '2024-02-01'\")\n",
    "experiment_df = experiment_data.query(\"date >= '2024-02-01'\")"
   ]
  },
  {
   "cell_type": "code",
   "execution_count": null,
   "metadata": {},
   "outputs": [],
   "source": [
    "from cluster_experiments import ClusteredSplitter, DeltaMethodAnalysis\n",
    "from sklearn.ensemble import HistGradientBoostingRegressor\n",
    "\n",
    "\n",
    "splitter = ClusteredSplitter(\n",
    "    cluster_cols=[\"customer_id\"],\n",
    ")\n",
    "delta = DeltaMethodAnalysis(\n",
    "    target_col=\"order_value\",\n",
    "    scale_col=\"one\",\n",
    "    covariates=[\"estimate_order_value\"],\n",
    "    cluster_cols=[\"customer_id\"],\n",
    ")\n",
    "\n",
    "pwr = NormalPowerAnalysis(\n",
    "    splitter=splitter,\n",
    "    analysis=delta,\n",
    "    cupac_model=HistGradientBoostingRegressor(),\n",
    "    time_col=\"date\",\n",
    "    target_col=\"order_value\",\n",
    "    scale_col=\"one\",\n",
    "    features_cupac_model=[\"customer_id\", \"customer_age\", \"historical_orders\"],\n",
    ")\n"
   ]
  },
  {
   "cell_type": "code",
   "execution_count": null,
   "metadata": {},
   "outputs": [],
   "source": [
    "mdes_cupac = []\n",
    "\n",
    "for experiment_length in range(1, 42, 2):\n",
    "    filtered_data = experiment_df[experiment_df[\"date\"] <= pd.Timestamp(\"2024-02-01\") + pd.Timedelta(days=experiment_length)]\n",
    "    aggregated_data = filtered_data.groupby(\"customer_id\").agg({\n",
    "        \"order_value\": \"sum\",\n",
    "        \"one\": \"sum\",\n",
    "        \"customer_age\": \"mean\",\n",
    "        \"historical_orders\": \"mean\",\n",
    "        \"date\": \"min\"\n",
    "    }).reset_index()\n",
    "    pre_experiment_aggregated_data = pre_experiment_df.groupby(\"customer_id\").agg({\n",
    "        \"order_value\": \"sum\",\n",
    "        \"one\": \"sum\",\n",
    "        \"customer_age\": \"mean\",\n",
    "        \"historical_orders\": \"mean\",\n",
    "        \"date\": \"min\"\n",
    "    }).reset_index()\n",
    "\n",
    "    mde = pwr.mde_time_line(\n",
    "        aggregated_data,\n",
    "        pre_experiment_aggregated_data,\n",
    "        powers=[0.8],\n",
    "        experiment_length=[experiment_length],\n",
    "        n_simulations=5\n",
    "    )\n",
    "    mdes_cupac.append(mde[0])\n",
    "\n",
    "\n",
    "plot_mdes(mdes_cupac, y_value=mde_value, x_lim=30)"
   ]
  },
  {
   "cell_type": "code",
   "execution_count": null,
   "metadata": {},
   "outputs": [],
   "source": [
    "get_length_print(mdes_cupac, mde_value)"
   ]
  },
  {
   "cell_type": "markdown",
   "metadata": {},
   "source": [
    "## Analysis\n",
    "\n",
    "Now we run analysis assuming that the experiment run after 2024-03-01 for 3 weeks. We simulate some fake effects (1.5 in order value and 0.2 in delivery time). We use functionalities in cluster_experiments to simulate the experiment."
   ]
  },
  {
   "cell_type": "code",
   "execution_count": null,
   "metadata": {},
   "outputs": [],
   "source": [
    "real_experiment_data = experiment_data.query(\"date >= '2024-03-01' and date < '2024-03-21'\")\n",
    "real_pre_experiment_data = experiment_data.query(\"date < '2024-03-01'\")\n",
    "real_experiment_data\n",
    "\n",
    "from cluster_experiments import ClusteredSplitter, ConstantPerturbator\n",
    "\n",
    "\n",
    "# Add effect on the order value\n",
    "splitter = ClusteredSplitter(\n",
    "    cluster_cols=[\"customer_id\"],\n",
    ")\n",
    "perturbator = ConstantPerturbator(\n",
    "    target_col=\"order_value\",\n",
    ")\n",
    "\n",
    "real_experiment_data = splitter.assign_treatment_df(real_experiment_data)\n",
    "real_experiment_data = perturbator.perturbate(real_experiment_data, average_effect=1.5)\n",
    "\n",
    "# Add effect on the delivery time\n",
    "perturbator = ConstantPerturbator(\n",
    "    target_col=\"delivery_time\",\n",
    ")\n",
    "real_experiment_data = perturbator.perturbate(real_experiment_data, average_effect=.2)\n",
    "real_experiment_data"
   ]
  },
  {
   "cell_type": "markdown",
   "metadata": {},
   "source": [
    "We run the analysis with and without covariate adjustment. We use city as a dimension, showing results in the overall population and by city. \n",
    "\n",
    "We see that the effect is larger when we use covariate adjustment, because we are using a better covariate that is not impacted by the treatment. We also show how to calculate the MDE for a given power and effect size."
   ]
  },
  {
   "cell_type": "code",
   "execution_count": null,
   "metadata": {},
   "outputs": [],
   "source": [
    "from cluster_experiments import AnalysisPlan, HypothesisTest, Variant, RatioMetric, SimpleMetric\n",
    "\n",
    "plan = AnalysisPlan.from_metrics_dict({\n",
    "    \"metrics\": [\n",
    "        {\"alias\": \"AOV\", \"numerator_name\": \"order_value\", \"denominator_name\": \"one\"},\n",
    "        {\"alias\": \"delivery_time\", \"numerator_name\": \"delivery_time\", \"denominator_name\": \"one\"},\n",
    "    ],\n",
    "    \"variants\": [\n",
    "        {\"name\": \"A\", \"is_control\": True},\n",
    "        {\"name\": \"B\", \"is_control\": False},\n",
    "    ],\n",
    "    \"variant_col\": \"treatment\",\n",
    "    \"alpha\": 0.05,\n",
    "    \"dimensions\": [\n",
    "        {\"name\": \"city\", \"values\": [\"NYC\", \"LA\"]},\n",
    "    ],\n",
    "    \"analysis_type\": \"delta\",\n",
    "    \"analysis_config\": {\"cluster_cols\": [\"customer_id\"]},\n",
    "})\n"
   ]
  },
  {
   "cell_type": "markdown",
   "metadata": {},
   "source": [
    "We see that CIs contain the true effect, and CIs are pretty big."
   ]
  },
  {
   "cell_type": "code",
   "execution_count": null,
   "metadata": {},
   "outputs": [],
   "source": [
    "# Run the analysis plan\n",
    "df_plan = plan.analyze(real_experiment_data).to_dataframe()\n",
    "df_plan"
   ]
  },
  {
   "cell_type": "markdown",
   "metadata": {},
   "source": [
    "We compare with clustered OLS, we see that the results are the same."
   ]
  },
  {
   "cell_type": "code",
   "execution_count": null,
   "metadata": {},
   "outputs": [],
   "source": [
    "AnalysisPlan.from_metrics_dict({\n",
    "    \"metrics\": [\n",
    "        {\"alias\": \"AOV\", \"name\": \"order_value\"},\n",
    "        {\"alias\": \"delivery_time\", \"name\": \"delivery_time\"},\n",
    "    ],\n",
    "    \"variants\": [\n",
    "        {\"name\": \"A\", \"is_control\": True},\n",
    "        {\"name\": \"B\", \"is_control\": False},\n",
    "    ],\n",
    "    \"variant_col\": \"treatment\",\n",
    "    \"alpha\": 0.05,\n",
    "    \"analysis_type\": \"clustered_ols\",\n",
    "    \"analysis_config\": {\"cluster_cols\": [\"customer_id\"]},\n",
    "}).analyze(real_experiment_data).to_dataframe()\n"
   ]
  },
  {
   "cell_type": "markdown",
   "metadata": {},
   "source": [
    "Now we use covariate adjustment with customer age. We see that the effect in order value is closer to the true effect, but the effect in delivery time is just as bad. This is because in our data generation process we used customer age as a covariate for order value but not for delivery time."
   ]
  },
  {
   "cell_type": "code",
   "execution_count": null,
   "metadata": {},
   "outputs": [],
   "source": [
    "plan_covariates = AnalysisPlan.from_metrics_dict({\n",
    "    \"metrics\": [\n",
    "        {\"alias\": \"AOV\", \"numerator_name\": \"order_value\", \"denominator_name\": \"one\"},\n",
    "        {\"alias\": \"delivery_time\", \"numerator_name\": \"delivery_time\", \"denominator_name\": \"one\"},\n",
    "    ],\n",
    "    \"variants\": [\n",
    "        {\"name\": \"A\", \"is_control\": True},\n",
    "        {\"name\": \"B\", \"is_control\": False},\n",
    "    ],\n",
    "    \"variant_col\": \"treatment\",\n",
    "    \"alpha\": 0.05,\n",
    "    \"analysis_type\": \"delta\",\n",
    "    \"analysis_config\": {\"cluster_cols\": [\"customer_id\"], \"covariates\": [\"customer_age\"]},\n",
    "})\n"
   ]
  },
  {
   "cell_type": "code",
   "execution_count": null,
   "metadata": {},
   "outputs": [],
   "source": [
    "# Run the analysis plan\n",
    "real_experiment_data_aggregated = real_experiment_data.groupby(\"customer_id\").agg({\n",
    "    \"order_value\": \"sum\",\n",
    "    \"one\": \"sum\",\n",
    "    \"delivery_time\": \"sum\",\n",
    "    \"customer_age\": \"mean\",\n",
    "    \"date\": \"min\",\n",
    "    \"treatment\": \"first\",\n",
    "    \"city\": \"first\"\n",
    "}).reset_index()\n",
    "\n",
    "pre_real_experiment_data_aggregated = real_pre_experiment_data.groupby(\"customer_id\").agg({\n",
    "    \"order_value\": \"sum\",\n",
    "    \"one\": \"sum\",\n",
    "    \"delivery_time\": \"sum\",\n",
    "    \"customer_age\": \"mean\",\n",
    "    \"date\": \"min\",\n",
    "    \"city\": \"first\"\n",
    "}).reset_index()\n",
    "\n",
    "\n",
    "plan_covariates.analyze(real_experiment_data_aggregated).to_dataframe()"
   ]
  },
  {
   "cell_type": "markdown",
   "metadata": {},
   "source": [
    "Comparing with clustered OLS"
   ]
  },
  {
   "cell_type": "code",
   "execution_count": null,
   "metadata": {},
   "outputs": [],
   "source": [
    "AnalysisPlan.from_metrics_dict({\n",
    "    \"metrics\": [\n",
    "        {\"alias\": \"AOV\", \"name\": \"order_value\"},\n",
    "        {\"alias\": \"delivery_time\", \"name\": \"delivery_time\"},\n",
    "    ],\n",
    "    \"variants\": [\n",
    "        {\"name\": \"A\", \"is_control\": True},\n",
    "        {\"name\": \"B\", \"is_control\": False},\n",
    "    ],\n",
    "    \"variant_col\": \"treatment\",\n",
    "    \"alpha\": 0.05,\n",
    "    \"analysis_type\": \"clustered_ols\",\n",
    "    \"analysis_config\": {\"cluster_cols\": [\"customer_id\"], \"covariates\": [\"customer_age\"]},\n",
    "}).analyze(real_experiment_data).to_dataframe()\n"
   ]
  },
  {
   "cell_type": "markdown",
   "metadata": {},
   "source": [
    "Now we run analysis using cupac model. We see that the effect in both metrics is closer to the true effect, and the CIs are smaller."
   ]
  },
  {
   "cell_type": "code",
   "execution_count": null,
   "metadata": {},
   "outputs": [],
   "source": [
    "plan_cupac = AnalysisPlan(\n",
    "    tests=[\n",
    "        HypothesisTest(\n",
    "            metric=RatioMetric(alias=\"AOV\", numerator_name=\"order_value\", denominator_name=\"one\"),\n",
    "            analysis_type=\"delta\",\n",
    "            analysis_config={\n",
    "                \"cluster_cols\": [\"customer_id\"],\n",
    "                \"covariates\": [\"customer_age\", \"estimate_order_value\"],\n",
    "            },\n",
    "            cupac_config={\n",
    "                \"cupac_model\": HistGradientBoostingRegressor(),\n",
    "                \"features_cupac_model\": [\"customer_id\", \"customer_age\"],\n",
    "                \"target_col\": \"order_value\",\n",
    "            },\n",
    "        ),\n",
    "        HypothesisTest(\n",
    "            metric=RatioMetric(alias=\"delivery_time\", numerator_name=\"delivery_time\", denominator_name=\"one\"),\n",
    "            analysis_type=\"delta\",\n",
    "            analysis_config={\n",
    "                \"cluster_cols\": [\"customer_id\"],\n",
    "                \"covariates\": [\"customer_age\", \"estimate_delivery_time\"],\n",
    "            },\n",
    "            cupac_config={\n",
    "                \"cupac_model\": HistGradientBoostingRegressor(),\n",
    "                \"features_cupac_model\": [\"customer_id\", \"customer_age\"],\n",
    "                \"target_col\": \"delivery_time\",\n",
    "            },\n",
    "        ),\n",
    "    ],\n",
    "    variants=[\n",
    "        Variant(name=\"A\", is_control=True),\n",
    "        Variant(name=\"B\", is_control=False),\n",
    "    ],\n",
    "    variant_col=\"treatment\",\n",
    ")"
   ]
  },
  {
   "cell_type": "code",
   "execution_count": null,
   "metadata": {},
   "outputs": [],
   "source": [
    "plan_cupac.analyze(\n",
    "    real_experiment_data_aggregated,\n",
    "    pre_real_experiment_data_aggregated\n",
    ").to_dataframe()"
   ]
  },
  {
   "cell_type": "markdown",
   "metadata": {},
   "source": [
    "Comparison with clustered OLS"
   ]
  },
  {
   "cell_type": "code",
   "execution_count": null,
   "metadata": {},
   "outputs": [],
   "source": [
    "plan_cupac_ols = AnalysisPlan(\n",
    "    tests=[\n",
    "        HypothesisTest(\n",
    "            metric=SimpleMetric(alias=\"AOV\", name=\"order_value\"),\n",
    "            analysis_type=\"clustered_ols\",\n",
    "            analysis_config={\n",
    "                \"cluster_cols\": [\"customer_id\"],\n",
    "                \"covariates\": [\"customer_age\", \"estimate_order_value\"],\n",
    "            },\n",
    "            cupac_config={\n",
    "                \"cupac_model\": HistGradientBoostingRegressor(),\n",
    "                \"features_cupac_model\": [\"customer_id\", \"customer_age\"],\n",
    "                \"target_col\": \"order_value\",\n",
    "            },\n",
    "        ),\n",
    "        HypothesisTest(\n",
    "            metric=SimpleMetric(alias=\"delivery_time\", name=\"delivery_time\"),\n",
    "            analysis_type=\"clustered_ols\",\n",
    "            analysis_config={\n",
    "                \"cluster_cols\": [\"customer_id\"],\n",
    "                \"covariates\": [\"customer_age\", \"estimate_delivery_time\"],\n",
    "            },\n",
    "            cupac_config={\n",
    "                \"cupac_model\": HistGradientBoostingRegressor(),\n",
    "                \"features_cupac_model\": [\"customer_id\", \"customer_age\"],\n",
    "                \"target_col\": \"delivery_time\",\n",
    "            },\n",
    "        ),\n",
    "    ],\n",
    "    variants=[\n",
    "        Variant(name=\"A\", is_control=True),\n",
    "        Variant(name=\"B\", is_control=False),\n",
    "    ],\n",
    "    variant_col=\"treatment\",\n",
    ")"
   ]
  },
  {
   "cell_type": "code",
   "execution_count": null,
   "metadata": {},
   "outputs": [],
   "source": [
    "plan_cupac_ols.analyze(\n",
    "    real_experiment_data,\n",
    "    real_pre_experiment_data\n",
    ").to_dataframe()"
   ]
  },
  {
   "cell_type": "code",
   "execution_count": null,
   "metadata": {},
   "outputs": [],
   "source": []
  }
 ],
 "metadata": {
  "kernelspec": {
   "display_name": "cluster-experiments (3.9.6)",
   "language": "python",
   "name": "python3"
  },
  "language_info": {
   "codemirror_mode": {
    "name": "ipython",
    "version": 3
   },
   "file_extension": ".py",
   "mimetype": "text/x-python",
   "name": "python",
   "nbconvert_exporter": "python",
   "pygments_lexer": "ipython3",
   "version": "3.9.6"
  }
 },
 "nbformat": 4,
 "nbformat_minor": 2
}

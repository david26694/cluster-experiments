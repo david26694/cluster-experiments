{
 "cells": [
  {
   "cell_type": "markdown",
   "metadata": {},
   "source": [
    "# End-to-end example\n",
    "\n",
    "We'll show the different functionalities of cluster_experiments, which are:\n",
    "* MDE calculation in different setups of switchback experiments\n",
    "* MDE calculation with simple covariate adjustment\n",
    "* MDE calculation with cupac (adjustment via ML models)\n",
    "* Inference for all the cases above\n",
    "\n",
    "\n",
    "## Data generation\n",
    "\n",
    "We create some pre-experimental data that we could use to run power analysis.\n",
    "\n",
    "We have a dataframe with orders and customers, each customer may have many orders, and the two target metrics are delivery time and order value.\n",
    "\n"
   ]
  },
  {
   "cell_type": "code",
   "execution_count": 1,
   "metadata": {},
   "outputs": [
    {
     "name": "stderr",
     "output_type": "stream",
     "text": [
      "/var/folders/n0/x7n4w_fs4vz094fp0sjd9mk00000gp/T/ipykernel_11416/441254994.py:38: FutureWarning: 'H' is deprecated and will be removed in a future version, please use 'h' instead.\n",
      "  date_range = pd.date_range(start=\"2024-01-01\", end=\"2024-03-31\", freq='H')\n"
     ]
    },
    {
     "data": {
      "text/html": [
       "<div>\n",
       "<style scoped>\n",
       "    .dataframe tbody tr th:only-of-type {\n",
       "        vertical-align: middle;\n",
       "    }\n",
       "\n",
       "    .dataframe tbody tr th {\n",
       "        vertical-align: top;\n",
       "    }\n",
       "\n",
       "    .dataframe thead th {\n",
       "        text-align: right;\n",
       "    }\n",
       "</style>\n",
       "<table border=\"1\" class=\"dataframe\">\n",
       "  <thead>\n",
       "    <tr style=\"text-align: right;\">\n",
       "      <th></th>\n",
       "      <th>customer_id</th>\n",
       "      <th>customer_age</th>\n",
       "      <th>order_value</th>\n",
       "      <th>datetime</th>\n",
       "      <th>city</th>\n",
       "      <th>delivery_time</th>\n",
       "      <th>date</th>\n",
       "      <th>is_weekend</th>\n",
       "      <th>hour_of_day</th>\n",
       "    </tr>\n",
       "  </thead>\n",
       "  <tbody>\n",
       "    <tr>\n",
       "      <th>0</th>\n",
       "      <td>611</td>\n",
       "      <td>39</td>\n",
       "      <td>72.199186</td>\n",
       "      <td>2024-02-21 08:00:00</td>\n",
       "      <td>City_39</td>\n",
       "      <td>9.268687</td>\n",
       "      <td>2024-02-21</td>\n",
       "      <td>False</td>\n",
       "      <td>8</td>\n",
       "    </tr>\n",
       "    <tr>\n",
       "      <th>1</th>\n",
       "      <td>704</td>\n",
       "      <td>23</td>\n",
       "      <td>81.011831</td>\n",
       "      <td>2024-01-26 16:00:00</td>\n",
       "      <td>City_98</td>\n",
       "      <td>8.421502</td>\n",
       "      <td>2024-01-26</td>\n",
       "      <td>False</td>\n",
       "      <td>16</td>\n",
       "    </tr>\n",
       "    <tr>\n",
       "      <th>2</th>\n",
       "      <td>243</td>\n",
       "      <td>52</td>\n",
       "      <td>89.979294</td>\n",
       "      <td>2024-03-25 11:00:00</td>\n",
       "      <td>City_34</td>\n",
       "      <td>6.935599</td>\n",
       "      <td>2024-03-25</td>\n",
       "      <td>False</td>\n",
       "      <td>11</td>\n",
       "    </tr>\n",
       "    <tr>\n",
       "      <th>3</th>\n",
       "      <td>831</td>\n",
       "      <td>23</td>\n",
       "      <td>65.235192</td>\n",
       "      <td>2024-03-27 09:00:00</td>\n",
       "      <td>City_91</td>\n",
       "      <td>10.286479</td>\n",
       "      <td>2024-03-27</td>\n",
       "      <td>False</td>\n",
       "      <td>9</td>\n",
       "    </tr>\n",
       "    <tr>\n",
       "      <th>4</th>\n",
       "      <td>561</td>\n",
       "      <td>58</td>\n",
       "      <td>91.154383</td>\n",
       "      <td>2024-03-29 14:00:00</td>\n",
       "      <td>City_44</td>\n",
       "      <td>8.100706</td>\n",
       "      <td>2024-03-29</td>\n",
       "      <td>False</td>\n",
       "      <td>14</td>\n",
       "    </tr>\n",
       "    <tr>\n",
       "      <th>...</th>\n",
       "      <td>...</td>\n",
       "      <td>...</td>\n",
       "      <td>...</td>\n",
       "      <td>...</td>\n",
       "      <td>...</td>\n",
       "      <td>...</td>\n",
       "      <td>...</td>\n",
       "      <td>...</td>\n",
       "      <td>...</td>\n",
       "    </tr>\n",
       "    <tr>\n",
       "      <th>9995</th>\n",
       "      <td>280</td>\n",
       "      <td>46</td>\n",
       "      <td>83.915813</td>\n",
       "      <td>2024-01-31 10:00:00</td>\n",
       "      <td>City_23</td>\n",
       "      <td>8.824491</td>\n",
       "      <td>2024-01-31</td>\n",
       "      <td>False</td>\n",
       "      <td>10</td>\n",
       "    </tr>\n",
       "    <tr>\n",
       "      <th>9996</th>\n",
       "      <td>538</td>\n",
       "      <td>27</td>\n",
       "      <td>51.848917</td>\n",
       "      <td>2024-01-05 14:00:00</td>\n",
       "      <td>City_44</td>\n",
       "      <td>6.947604</td>\n",
       "      <td>2024-01-05</td>\n",
       "      <td>False</td>\n",
       "      <td>14</td>\n",
       "    </tr>\n",
       "    <tr>\n",
       "      <th>9997</th>\n",
       "      <td>685</td>\n",
       "      <td>30</td>\n",
       "      <td>76.810120</td>\n",
       "      <td>2024-02-22 02:00:00</td>\n",
       "      <td>City_38</td>\n",
       "      <td>8.982564</td>\n",
       "      <td>2024-02-22</td>\n",
       "      <td>False</td>\n",
       "      <td>2</td>\n",
       "    </tr>\n",
       "    <tr>\n",
       "      <th>9998</th>\n",
       "      <td>156</td>\n",
       "      <td>58</td>\n",
       "      <td>77.046916</td>\n",
       "      <td>2024-03-16 10:00:00</td>\n",
       "      <td>City_49</td>\n",
       "      <td>11.140749</td>\n",
       "      <td>2024-03-16</td>\n",
       "      <td>True</td>\n",
       "      <td>10</td>\n",
       "    </tr>\n",
       "    <tr>\n",
       "      <th>9999</th>\n",
       "      <td>238</td>\n",
       "      <td>38</td>\n",
       "      <td>78.391366</td>\n",
       "      <td>2024-01-06 14:00:00</td>\n",
       "      <td>City_43</td>\n",
       "      <td>9.824124</td>\n",
       "      <td>2024-01-06</td>\n",
       "      <td>True</td>\n",
       "      <td>14</td>\n",
       "    </tr>\n",
       "  </tbody>\n",
       "</table>\n",
       "<p>10000 rows × 9 columns</p>\n",
       "</div>"
      ],
      "text/plain": [
       "      customer_id  customer_age  order_value            datetime     city  \\\n",
       "0             611            39    72.199186 2024-02-21 08:00:00  City_39   \n",
       "1             704            23    81.011831 2024-01-26 16:00:00  City_98   \n",
       "2             243            52    89.979294 2024-03-25 11:00:00  City_34   \n",
       "3             831            23    65.235192 2024-03-27 09:00:00  City_91   \n",
       "4             561            58    91.154383 2024-03-29 14:00:00  City_44   \n",
       "...           ...           ...          ...                 ...      ...   \n",
       "9995          280            46    83.915813 2024-01-31 10:00:00  City_23   \n",
       "9996          538            27    51.848917 2024-01-05 14:00:00  City_44   \n",
       "9997          685            30    76.810120 2024-02-22 02:00:00  City_38   \n",
       "9998          156            58    77.046916 2024-03-16 10:00:00  City_49   \n",
       "9999          238            38    78.391366 2024-01-06 14:00:00  City_43   \n",
       "\n",
       "      delivery_time        date  is_weekend  hour_of_day  \n",
       "0          9.268687  2024-02-21       False            8  \n",
       "1          8.421502  2024-01-26       False           16  \n",
       "2          6.935599  2024-03-25       False           11  \n",
       "3         10.286479  2024-03-27       False            9  \n",
       "4          8.100706  2024-03-29       False           14  \n",
       "...             ...         ...         ...          ...  \n",
       "9995       8.824491  2024-01-31       False           10  \n",
       "9996       6.947604  2024-01-05       False           14  \n",
       "9997       8.982564  2024-02-22       False            2  \n",
       "9998      11.140749  2024-03-16        True           10  \n",
       "9999       9.824124  2024-01-06        True           14  \n",
       "\n",
       "[10000 rows x 9 columns]"
      ]
     },
     "execution_count": 1,
     "metadata": {},
     "output_type": "execute_result"
    }
   ],
   "source": [
    "import random\n",
    "import datetime\n",
    "\n",
    "import numpy as np\n",
    "import pandas as pd\n",
    "import seaborn as sns\n",
    "\n",
    "\n",
    "from datetime import timedelta\n",
    "from cluster_experiments import NormalPowerAnalysis\n",
    "\n",
    "np.random.seed(42)\n",
    "random.seed(42)\n",
    "\n",
    "# Constants\n",
    "N = 10000  # Number of orders\n",
    "NUM_CUSTOMERS = 1000  # Unique customers\n",
    "\n",
    "def generate_customers(num_customers):\n",
    "    \"\"\"Generate unique customers with a mean order value based on age.\"\"\"\n",
    "    customer_ids = np.arange(1, num_customers + 1)\n",
    "    customer_ages = np.random.randint(20, 60, size=num_customers)\n",
    "    mean_order_values = 50 + 0.8 * customer_ages + np.random.normal(0, 10, size=num_customers)\n",
    "\n",
    "    return pd.DataFrame({\n",
    "        \"customer_id\": customer_ids,\n",
    "        \"customer_age\": customer_ages,\n",
    "        \"mean_order_value\": mean_order_values\n",
    "    })\n",
    "\n",
    "def sample_orders(customers, num_orders):\n",
    "    \"\"\"Sample customers and generate order-level data.\"\"\"\n",
    "    sampled_customers = np.random.choice(customers[\"customer_id\"], size=num_orders)\n",
    "    return pd.DataFrame({\"customer_id\": sampled_customers}).merge(customers, on=\"customer_id\", how=\"left\")\n",
    "\n",
    "def generate_orders(customers, num_orders):\n",
    "    \"\"\"Full order generation pipeline using .assign() for cleaner transformations.\"\"\"\n",
    "    date_range = pd.date_range(start=\"2024-01-01\", end=\"2024-03-31\", freq='H')\n",
    "    \n",
    "    # Generate 100 cities\n",
    "    cities = [f\"City_{i:02d}\" for i in range(1, 101)]\n",
    "    \n",
    "    def calculate_delivery_time(df):\n",
    "        # Base delivery time per customer\n",
    "        base_time = 8 + np.sin(df[\"customer_id\"] / 10)\n",
    "        \n",
    "        # Time of day effect (slower during rush hours: 8-9am, 5-7pm)\n",
    "        hour = df[\"datetime\"].dt.hour\n",
    "        time_effect = np.where(\n",
    "            ((hour >= 8) & (hour <= 9)) | ((hour >= 17) & (hour <= 19)),\n",
    "            1.5,  # 1.5 hours slower during rush hours\n",
    "            0\n",
    "        )\n",
    "        \n",
    "        # Day of week effect (slower on weekends)\n",
    "        day_of_week = df[\"datetime\"].dt.dayofweek\n",
    "        weekend_effect = np.where(day_of_week >= 5, 0.8, 0)  # 0.8 hours slower on weekends\n",
    "        \n",
    "        # City effect (some cities have systematically longer delivery times)\n",
    "        # Extract city number and create varying delivery times\n",
    "        city_numbers = df[\"city\"].str.extract(r'City_(\\d+)')[0].astype(int)\n",
    "        city_effect = 0.5 * np.sin(city_numbers / 20) + 0.3 * np.cos(city_numbers / 15)\n",
    "        \n",
    "        # Random noise\n",
    "        noise = np.random.normal(0, 0.5, size=len(df))\n",
    "        \n",
    "        return base_time + time_effect + 4 * weekend_effect + city_effect + noise\n",
    "\n",
    "    return (\n",
    "        sample_orders(customers, num_orders)\n",
    "        .assign(\n",
    "            order_value=lambda df: df[\"mean_order_value\"] + np.random.normal(0, 5, size=len(df)),\n",
    "            datetime=lambda df: pd.to_datetime(np.random.choice(date_range, size=len(df))),\n",
    "            city=lambda df: np.random.choice(cities, size=len(df)),\n",
    "        )\n",
    "        .assign(\n",
    "            delivery_time=calculate_delivery_time,\n",
    "            date=lambda df: df[\"datetime\"].dt.date  # Extract date for compatibility\n",
    "        )\n",
    "        .drop(columns=[\"mean_order_value\"])  # Remove intermediate column\n",
    "    )\n",
    "\n",
    "def plot_mdes(mdes, x_lim=40, y_value=3):\n",
    "    sns.lineplot(\n",
    "        data=pd.DataFrame(mdes),\n",
    "        x=\"experiment_length\",\n",
    "        y=\"mde\",\n",
    "    )\n",
    "\n",
    "    sns.lineplot(\n",
    "        x=[0, x_lim],\n",
    "        y=[y_value, y_value],\n",
    "        color=\"red\",\n",
    "        linestyle=\"--\",\n",
    "    )\n",
    "\n",
    "\n",
    "def get_length_print(mdes, mde_value):\n",
    "    if any(x[\"mde\"] < mde_value for x in mdes):\n",
    "        length = min(x[\"experiment_length\"] for x in mdes if x[\"mde\"] < mde_value)\n",
    "        print(f\"Minimum experiment length to detect MDE of {mde_value}: {length}\")\n",
    "        return\n",
    "    print(f\"No MDE below {mde_value} found in the provided data.\")\n",
    "\n",
    "# Run the pipeline\n",
    "customers = generate_customers(NUM_CUSTOMERS)\n",
    "experiment_data = generate_orders(customers, N).assign(\n",
    "    is_weekend=lambda df: df[\"datetime\"].dt.dayofweek >= 5,\n",
    "    hour_of_day=lambda df: df[\"datetime\"].dt.hour,\n",
    ")\n",
    "\n",
    "experiment_data\n"
   ]
  },
  {
   "cell_type": "markdown",
   "metadata": {},
   "source": [
    "## Power analysis\n",
    "\n",
    "### Day-level split\n",
    "\n",
    "Assume we run an switchback test randomizing at day level"
   ]
  },
  {
   "cell_type": "code",
   "execution_count": 2,
   "metadata": {},
   "outputs": [
    {
     "data": {
      "image/png": "[encoded data removed]",
      "text/plain": [
       "<Figure size 640x480 with 1 Axes>"
      ]
     },
     "metadata": {},
     "output_type": "display_data"
    }
   ],
   "source": [
    "# we want to detect an effect of 0.1 on delivery_time, so we set the mde_value to 0.1\n",
    "MDE_VALUE = 0.1\n",
    "EXPERIMENT_LENGTHS = (7, 14, 21, 28, 35, 42, 49, 56)\n",
    "\n",
    "mde_time_split = NormalPowerAnalysis.from_dict({\n",
    "    \"analysis\": \"clustered_ols\",\n",
    "    \"cluster_cols\": [\"datetime\"],\n",
    "    \"splitter\": \"switchback\",\n",
    "    \"switch_frequency\": \"24h\",\n",
    "    \"target_col\": \"delivery_time\",\n",
    "    \"time_col\": \"datetime\",\n",
    "})\n",
    "\n",
    "mdes = mde_time_split.mde_time_line(\n",
    "    experiment_data,\n",
    "    powers=[0.8],\n",
    "    experiment_length=EXPERIMENT_LENGTHS,\n",
    "    n_simulations=10\n",
    ")\n",
    "\n",
    "plot_mdes(mdes, y_value=MDE_VALUE)"
   ]
  },
  {
   "cell_type": "code",
   "execution_count": 3,
   "metadata": {},
   "outputs": [
    {
     "name": "stdout",
     "output_type": "stream",
     "text": [
      "No MDE below 0.1 found in the provided data.\n"
     ]
    }
   ],
   "source": [
    "get_length_print(mdes, MDE_VALUE)"
   ]
  },
  {
   "cell_type": "markdown",
   "metadata": {},
   "source": [
    "### 4h-level split\n",
    "\n",
    "Assume we randomize the treatment at 4h level, we can use the same data as above, but we need to change the switch frequency to 4h."
   ]
  },
  {
   "cell_type": "code",
   "execution_count": 4,
   "metadata": {},
   "outputs": [
    {
     "data": {
      "image/png": "[encoded data removed]",
      "text/plain": [
       "<Figure size 640x480 with 1 Axes>"
      ]
     },
     "metadata": {},
     "output_type": "display_data"
    }
   ],
   "source": [
    "mde_time_split = NormalPowerAnalysis.from_dict({\n",
    "    \"analysis\": \"clustered_ols\",\n",
    "    \"cluster_cols\": [\"datetime\"],\n",
    "    \"splitter\": \"switchback\",\n",
    "    \"switch_frequency\": \"4h\",\n",
    "    \"target_col\": \"delivery_time\",\n",
    "    \"time_col\": \"datetime\",\n",
    "    \"washover\": \"constant_washover\",\n",
    "    \"washover_time_delta\": timedelta(minutes=30),\n",
    "})\n",
    "\n",
    "mdes = mde_time_split.mde_time_line(\n",
    "    experiment_data,\n",
    "    powers=[0.8],\n",
    "    experiment_length=EXPERIMENT_LENGTHS,\n",
    "    n_simulations=10\n",
    ")\n",
    "\n",
    "plot_mdes(mdes, y_value=MDE_VALUE)"
   ]
  },
  {
   "cell_type": "code",
   "execution_count": 5,
   "metadata": {},
   "outputs": [
    {
     "name": "stdout",
     "output_type": "stream",
     "text": [
      "No MDE below 0.1 found in the provided data.\n"
     ]
    }
   ],
   "source": [
    "get_length_print(mdes, MDE_VALUE)"
   ]
  },
  {
   "cell_type": "markdown",
   "metadata": {},
   "source": [
    "### City + 4h-level split\n",
    "\n",
    "Assume we randomize the treatment at city + 4h level, we can use the same data as above, but we need to add city as a cluster column."
   ]
  },
  {
   "cell_type": "code",
   "execution_count": 6,
   "metadata": {},
   "outputs": [
    {
     "data": {
      "image/png": "[encoded data removed]",
      "text/plain": [
       "<Figure size 640x480 with 1 Axes>"
      ]
     },
     "metadata": {},
     "output_type": "display_data"
    }
   ],
   "source": [
    "mde_time_split = NormalPowerAnalysis.from_dict({\n",
    "    \"analysis\": \"clustered_ols\",\n",
    "    \"cluster_cols\": [\"datetime\", \"city\"],\n",
    "    \"splitter\": \"switchback\",\n",
    "    \"switch_frequency\": \"4h\",\n",
    "    \"target_col\": \"delivery_time\",\n",
    "    \"time_col\": \"datetime\",\n",
    "    \"washover\": \"constant_washover\",\n",
    "    \"washover_time_delta\": timedelta(minutes=30),\n",
    "})\n",
    "\n",
    "mdes = mde_time_split.mde_time_line(\n",
    "    experiment_data,\n",
    "    powers=[0.8],\n",
    "    experiment_length=EXPERIMENT_LENGTHS,\n",
    "    n_simulations=10\n",
    ")\n",
    "\n",
    "plot_mdes(mdes, y_value=MDE_VALUE)"
   ]
  },
  {
   "cell_type": "code",
   "execution_count": 7,
   "metadata": {},
   "outputs": [
    {
     "name": "stdout",
     "output_type": "stream",
     "text": [
      "No MDE below 0.1 found in the provided data.\n"
     ]
    }
   ],
   "source": [
    "get_length_print(mdes, MDE_VALUE)"
   ]
  },
  {
   "cell_type": "markdown",
   "metadata": {},
   "source": [
    "is_weekend is a good predictor of delivery time that is not impacted by the treatment. We can use this covariate to adjust our analysis and decrease mde. We see that mde is smaller in this case, because we are using a covariate that is not impacted by the treatment."
   ]
  },
  {
   "cell_type": "code",
   "execution_count": 8,
   "metadata": {},
   "outputs": [],
   "source": [
    "mde_variance_reduction = NormalPowerAnalysis.from_dict({\n",
    "    \"analysis\": \"clustered_ols\",\n",
    "    \"cluster_cols\": [\"datetime\", \"city\"],\n",
    "    \"splitter\": \"switchback\",\n",
    "    \"switch_frequency\": \"4h\",\n",
    "    \"target_col\": \"delivery_time\",\n",
    "    \"time_col\": \"datetime\",\n",
    "    \"covariates\": [\"is_weekend\"],\n",
    "    \"washover\": \"constant_washover\",\n",
    "    \"washover_time_delta\": timedelta(minutes=30),\n",
    "})"
   ]
  },
  {
   "cell_type": "code",
   "execution_count": 9,
   "metadata": {},
   "outputs": [],
   "source": [
    "mdes = mde_variance_reduction.mde_time_line(\n",
    "    experiment_data,\n",
    "    powers=[0.8],\n",
    "    experiment_length=EXPERIMENT_LENGTHS,\n",
    "    n_simulations=10\n",
    ")"
   ]
  },
  {
   "cell_type": "code",
   "execution_count": 10,
   "metadata": {},
   "outputs": [
    {
     "data": {
      "image/png": "[encoded data removed]",
      "text/plain": [
       "<Figure size 640x480 with 1 Axes>"
      ]
     },
     "metadata": {},
     "output_type": "display_data"
    }
   ],
   "source": [
    "plot_mdes(mdes, y_value=MDE_VALUE)"
   ]
  },
  {
   "cell_type": "code",
   "execution_count": 11,
   "metadata": {},
   "outputs": [
    {
     "name": "stdout",
     "output_type": "stream",
     "text": [
      "Minimum experiment length to detect MDE of 0.1: 42\n"
     ]
    }
   ],
   "source": [
    "get_length_print(mdes, MDE_VALUE)"
   ]
  },
  {
   "cell_type": "markdown",
   "metadata": {},
   "source": [
    "This is the last example of power analysis.\n",
    "\n",
    "We assume data from Feb onwards is used to run the power analysis (it's the data we take as experimental, though it is actually pre-experimental data). Data from Jan is taken as pre-experimental data. We simulate that the experiment happened after Feb. We do this because we need pre-experimental data to train the Cupac Model, which we didn't do before.\n",
    "\n",
    "We use cupac model with customer id and datetime features (delivery-time has a non-linear relationship with customer id, that's why we don't add it a single covariate). We use the same data as before, but we train the model with pre-experimental data. We see that mde is smaller in this case, because we are using a **better** covariate that is not impacted by the treatment.\n",
    "\n",
    "In this case we cannot init by dict because we're using cupac, but happy to review a PR that includes this :) In this case we need to create splitter and analysis classes."
   ]
  },
  {
   "cell_type": "code",
   "execution_count": 12,
   "metadata": {},
   "outputs": [],
   "source": [
    "cutoff_date = datetime.date(2024, 2, 1)\n",
    "\n",
    "pre_experiment_df = experiment_data[experiment_data[\"date\"] < cutoff_date]\n",
    "experiment_df = experiment_data[experiment_data[\"date\"] >= cutoff_date]"
   ]
  },
  {
   "cell_type": "code",
   "execution_count": 13,
   "metadata": {},
   "outputs": [],
   "source": [
    "from cluster_experiments import SwitchbackSplitter, ClusteredOLSAnalysis, ConstantWashover\n",
    "from sklearn.ensemble import HistGradientBoostingRegressor\n",
    "\n",
    "\n",
    "splitter = SwitchbackSplitter(\n",
    "    cluster_cols=[\"datetime\", \"city\"],\n",
    "    switch_frequency=\"4h\",\n",
    "    time_col=\"datetime\",\n",
    "    washover=ConstantWashover(\n",
    "        washover_time_delta=timedelta(minutes=30)\n",
    "    )\n",
    ")\n",
    "ols = ClusteredOLSAnalysis(\n",
    "    target_col=\"delivery_time\",\n",
    "    covariates=[\"estimate_delivery_time\"],\n",
    "    cluster_cols=[\"datetime\", \"city\"],\n",
    ")\n",
    "\n",
    "pwr = NormalPowerAnalysis(\n",
    "    splitter=splitter,\n",
    "    analysis=ols,\n",
    "    cupac_model=HistGradientBoostingRegressor(),\n",
    "    time_col=\"datetime\",\n",
    "    target_col=\"delivery_time\",\n",
    "    features_cupac_model=[\"customer_id\", \"is_weekend\", \"hour_of_day\"],\n",
    ")\n"
   ]
  },
  {
   "cell_type": "code",
   "execution_count": 14,
   "metadata": {},
   "outputs": [
    {
     "data": {
      "image/png": "[encoded data removed]",
      "text/plain": [
       "<Figure size 640x480 with 1 Axes>"
      ]
     },
     "metadata": {},
     "output_type": "display_data"
    }
   ],
   "source": [
    "mde_cupac = pwr.mde_time_line(\n",
    "    experiment_df,\n",
    "    pre_experiment_df,\n",
    "    powers=[0.8],\n",
    "    experiment_length=EXPERIMENT_LENGTHS,\n",
    "    n_simulations=10,\n",
    ")\n",
    "\n",
    "plot_mdes(mde_cupac, y_value=MDE_VALUE)"
   ]
  },
  {
   "cell_type": "code",
   "execution_count": 15,
   "metadata": {},
   "outputs": [
    {
     "name": "stdout",
     "output_type": "stream",
     "text": [
      "Minimum experiment length to detect MDE of 0.1: 14\n"
     ]
    }
   ],
   "source": [
    "get_length_print(mde_cupac, MDE_VALUE)"
   ]
  },
  {
   "cell_type": "markdown",
   "metadata": {},
   "source": [
    "## Analysis\n",
    "\n",
    "Now we run analysis assuming that the experiment run after 2024-03-01 for 3 weeks. We simulate some fake effects (0.0 in order value and 0.1 in delivery time). We use functionalities in cluster_experiments to simulate the experiment."
   ]
  },
  {
   "cell_type": "code",
   "execution_count": 16,
   "metadata": {},
   "outputs": [],
   "source": [
    "cutoff_date = datetime.date(2024, 3, 1)\n",
    "\n",
    "real_experiment_data = experiment_data[experiment_data[\"date\"] >= cutoff_date]\n",
    "real_pre_experiment_data = experiment_data[experiment_data[\"date\"] < cutoff_date]\n",
    "\n",
    "from cluster_experiments import ConstantPerturbator\n",
    "\n",
    "\n",
    "# Add effect on the order value\n",
    "splitter = SwitchbackSplitter(\n",
    "    cluster_cols=[\"datetime\", \"city\"],\n",
    "    switch_frequency=\"4h\",\n",
    "    time_col=\"datetime\",\n",
    "    washover=ConstantWashover(\n",
    "        washover_time_delta=timedelta(minutes=30)\n",
    "    )\n",
    ")\n",
    "\n",
    "perturbator = ConstantPerturbator(\n",
    "    target_col=\"delivery_time\",\n",
    ")\n",
    "\n",
    "real_experiment_data = splitter.assign_treatment_df(real_experiment_data)\n",
    "real_experiment_data = perturbator.perturbate(real_experiment_data, average_effect=0.1)"
   ]
  },
  {
   "cell_type": "markdown",
   "metadata": {},
   "source": [
    "We run the analysis with and without covariate adjustment.\n",
    "\n",
    "We see that the effect is closer to the true effect when we use covariate adjustment."
   ]
  },
  {
   "cell_type": "code",
   "execution_count": 17,
   "metadata": {},
   "outputs": [],
   "source": [
    "from cluster_experiments import AnalysisPlan, HypothesisTest, Variant, SimpleMetric\n",
    "\n",
    "plan = AnalysisPlan.from_metrics_dict({\n",
    "    \"metrics\": [\n",
    "        {\"alias\": \"AOV\", \"name\": \"order_value\"},\n",
    "        {\"alias\": \"delivery_time\", \"name\": \"delivery_time\"},\n",
    "    ],\n",
    "    \"variants\": [\n",
    "        {\"name\": \"A\", \"is_control\": True},\n",
    "        {\"name\": \"B\", \"is_control\": False},\n",
    "    ],\n",
    "    \"variant_col\": \"treatment\",\n",
    "    \"alpha\": 0.05,\n",
    "    \"analysis_type\": \"clustered_ols\",\n",
    "    \"analysis_config\": {\"cluster_cols\": [\"city\", \"datetime\"]},\n",
    "})\n"
   ]
  },
  {
   "cell_type": "markdown",
   "metadata": {},
   "source": [
    "We see that CIs contain the true effect, and CIs are pretty big."
   ]
  },
  {
   "cell_type": "code",
   "execution_count": 18,
   "metadata": {},
   "outputs": [
    {
     "data": {
      "text/html": [
       "<div>\n",
       "<style scoped>\n",
       "    .dataframe tbody tr th:only-of-type {\n",
       "        vertical-align: middle;\n",
       "    }\n",
       "\n",
       "    .dataframe tbody tr th {\n",
       "        vertical-align: top;\n",
       "    }\n",
       "\n",
       "    .dataframe thead th {\n",
       "        text-align: right;\n",
       "    }\n",
       "</style>\n",
       "<table border=\"1\" class=\"dataframe\">\n",
       "  <thead>\n",
       "    <tr style=\"text-align: right;\">\n",
       "      <th></th>\n",
       "      <th>metric_alias</th>\n",
       "      <th>control_variant_name</th>\n",
       "      <th>treatment_variant_name</th>\n",
       "      <th>control_variant_mean</th>\n",
       "      <th>treatment_variant_mean</th>\n",
       "      <th>analysis_type</th>\n",
       "      <th>ate</th>\n",
       "      <th>ate_ci_lower</th>\n",
       "      <th>ate_ci_upper</th>\n",
       "      <th>p_value</th>\n",
       "      <th>std_error</th>\n",
       "      <th>dimension_name</th>\n",
       "      <th>dimension_value</th>\n",
       "      <th>alpha</th>\n",
       "    </tr>\n",
       "  </thead>\n",
       "  <tbody>\n",
       "    <tr>\n",
       "      <th>0</th>\n",
       "      <td>AOV</td>\n",
       "      <td>A</td>\n",
       "      <td>B</td>\n",
       "      <td>82.007654</td>\n",
       "      <td>82.172876</td>\n",
       "      <td>clustered_ols</td>\n",
       "      <td>0.165222</td>\n",
       "      <td>-0.880170</td>\n",
       "      <td>1.210615</td>\n",
       "      <td>0.756737</td>\n",
       "      <td>0.533373</td>\n",
       "      <td>__total_dimension</td>\n",
       "      <td>total</td>\n",
       "      <td>0.05</td>\n",
       "    </tr>\n",
       "    <tr>\n",
       "      <th>1</th>\n",
       "      <td>delivery_time</td>\n",
       "      <td>A</td>\n",
       "      <td>B</td>\n",
       "      <td>9.299918</td>\n",
       "      <td>9.452242</td>\n",
       "      <td>clustered_ols</td>\n",
       "      <td>0.152324</td>\n",
       "      <td>0.013381</td>\n",
       "      <td>0.291268</td>\n",
       "      <td>0.031657</td>\n",
       "      <td>0.070891</td>\n",
       "      <td>__total_dimension</td>\n",
       "      <td>total</td>\n",
       "      <td>0.05</td>\n",
       "    </tr>\n",
       "  </tbody>\n",
       "</table>\n",
       "</div>"
      ],
      "text/plain": [
       "    metric_alias control_variant_name treatment_variant_name  \\\n",
       "0            AOV                    A                      B   \n",
       "1  delivery_time                    A                      B   \n",
       "\n",
       "   control_variant_mean  treatment_variant_mean  analysis_type       ate  \\\n",
       "0             82.007654               82.172876  clustered_ols  0.165222   \n",
       "1              9.299918                9.452242  clustered_ols  0.152324   \n",
       "\n",
       "   ate_ci_lower  ate_ci_upper   p_value  std_error     dimension_name  \\\n",
       "0     -0.880170      1.210615  0.756737   0.533373  __total_dimension   \n",
       "1      0.013381      0.291268  0.031657   0.070891  __total_dimension   \n",
       "\n",
       "  dimension_value  alpha  \n",
       "0           total   0.05  \n",
       "1           total   0.05  "
      ]
     },
     "execution_count": 18,
     "metadata": {},
     "output_type": "execute_result"
    }
   ],
   "source": [
    "# Run the analysis plan\n",
    "plan.analyze(real_experiment_data).to_dataframe()"
   ]
  },
  {
   "cell_type": "markdown",
   "metadata": {},
   "source": [
    "Now we use covariate adjustment with is weekend."
   ]
  },
  {
   "cell_type": "code",
   "execution_count": 19,
   "metadata": {},
   "outputs": [],
   "source": [
    "plan_covariates = AnalysisPlan.from_metrics_dict({\n",
    "    \"metrics\": [\n",
    "        {\"alias\": \"AOV\", \"name\": \"order_value\"},\n",
    "        {\"alias\": \"delivery_time\", \"name\": \"delivery_time\"},\n",
    "    ],\n",
    "    \"variants\": [\n",
    "        {\"name\": \"A\", \"is_control\": True},\n",
    "        {\"name\": \"B\", \"is_control\": False},\n",
    "    ],\n",
    "    \"variant_col\": \"treatment\",\n",
    "    \"alpha\": 0.05,\n",
    "    \"analysis_type\": \"clustered_ols\",\n",
    "    \"analysis_config\": {\"cluster_cols\": [\"city\", \"datetime\"], \"covariates\": [\"is_weekend\"]},\n",
    "})"
   ]
  },
  {
   "cell_type": "code",
   "execution_count": 20,
   "metadata": {},
   "outputs": [
    {
     "data": {
      "text/html": [
       "<div>\n",
       "<style scoped>\n",
       "    .dataframe tbody tr th:only-of-type {\n",
       "        vertical-align: middle;\n",
       "    }\n",
       "\n",
       "    .dataframe tbody tr th {\n",
       "        vertical-align: top;\n",
       "    }\n",
       "\n",
       "    .dataframe thead th {\n",
       "        text-align: right;\n",
       "    }\n",
       "</style>\n",
       "<table border=\"1\" class=\"dataframe\">\n",
       "  <thead>\n",
       "    <tr style=\"text-align: right;\">\n",
       "      <th></th>\n",
       "      <th>metric_alias</th>\n",
       "      <th>control_variant_name</th>\n",
       "      <th>treatment_variant_name</th>\n",
       "      <th>control_variant_mean</th>\n",
       "      <th>treatment_variant_mean</th>\n",
       "      <th>analysis_type</th>\n",
       "      <th>ate</th>\n",
       "      <th>ate_ci_lower</th>\n",
       "      <th>ate_ci_upper</th>\n",
       "      <th>p_value</th>\n",
       "      <th>std_error</th>\n",
       "      <th>dimension_name</th>\n",
       "      <th>dimension_value</th>\n",
       "      <th>alpha</th>\n",
       "    </tr>\n",
       "  </thead>\n",
       "  <tbody>\n",
       "    <tr>\n",
       "      <th>0</th>\n",
       "      <td>AOV</td>\n",
       "      <td>A</td>\n",
       "      <td>B</td>\n",
       "      <td>82.007654</td>\n",
       "      <td>82.172876</td>\n",
       "      <td>clustered_ols</td>\n",
       "      <td>0.167288</td>\n",
       "      <td>-0.878599</td>\n",
       "      <td>1.213175</td>\n",
       "      <td>0.753907</td>\n",
       "      <td>0.533626</td>\n",
       "      <td>__total_dimension</td>\n",
       "      <td>total</td>\n",
       "      <td>0.05</td>\n",
       "    </tr>\n",
       "    <tr>\n",
       "      <th>1</th>\n",
       "      <td>delivery_time</td>\n",
       "      <td>A</td>\n",
       "      <td>B</td>\n",
       "      <td>9.299918</td>\n",
       "      <td>9.452242</td>\n",
       "      <td>clustered_ols</td>\n",
       "      <td>0.095147</td>\n",
       "      <td>0.014737</td>\n",
       "      <td>0.175557</td>\n",
       "      <td>0.020385</td>\n",
       "      <td>0.041026</td>\n",
       "      <td>__total_dimension</td>\n",
       "      <td>total</td>\n",
       "      <td>0.05</td>\n",
       "    </tr>\n",
       "  </tbody>\n",
       "</table>\n",
       "</div>"
      ],
      "text/plain": [
       "    metric_alias control_variant_name treatment_variant_name  \\\n",
       "0            AOV                    A                      B   \n",
       "1  delivery_time                    A                      B   \n",
       "\n",
       "   control_variant_mean  treatment_variant_mean  analysis_type       ate  \\\n",
       "0             82.007654               82.172876  clustered_ols  0.167288   \n",
       "1              9.299918                9.452242  clustered_ols  0.095147   \n",
       "\n",
       "   ate_ci_lower  ate_ci_upper   p_value  std_error     dimension_name  \\\n",
       "0     -0.878599      1.213175  0.753907   0.533626  __total_dimension   \n",
       "1      0.014737      0.175557  0.020385   0.041026  __total_dimension   \n",
       "\n",
       "  dimension_value  alpha  \n",
       "0           total   0.05  \n",
       "1           total   0.05  "
      ]
     },
     "execution_count": 20,
     "metadata": {},
     "output_type": "execute_result"
    }
   ],
   "source": [
    "# Run the analysis plan\n",
    "plan_covariates.analyze(real_experiment_data).to_dataframe()"
   ]
  },
  {
   "cell_type": "markdown",
   "metadata": {},
   "source": [
    "Now we run analysis using cupac model. We see that the effect in both metrics is closer to the true effect, and the CIs are smaller."
   ]
  },
  {
   "cell_type": "code",
   "execution_count": 21,
   "metadata": {},
   "outputs": [],
   "source": [
    "plan_cupac = AnalysisPlan(\n",
    "    tests=[\n",
    "        HypothesisTest(\n",
    "            metric=SimpleMetric(alias=\"AOV\", name=\"order_value\"),\n",
    "            analysis_type=\"clustered_ols\",\n",
    "            analysis_config={\n",
    "                \"cluster_cols\": [\"city\", \"datetime\"],\n",
    "                \"covariates\": [\"estimate_order_value\"],\n",
    "            },\n",
    "            cupac_config={\n",
    "                \"cupac_model\": HistGradientBoostingRegressor(),\n",
    "                \"features_cupac_model\": [\"customer_id\", \"customer_age\"],\n",
    "                \"target_col\": \"order_value\",\n",
    "            },\n",
    "        ),\n",
    "        HypothesisTest(\n",
    "            metric=SimpleMetric(alias=\"delivery_time\", name=\"delivery_time\"),\n",
    "            analysis_type=\"clustered_ols\",\n",
    "            analysis_config={\n",
    "                \"cluster_cols\": [\"city\", \"datetime\"],\n",
    "                \"covariates\": [\"estimate_delivery_time\"],\n",
    "            },\n",
    "            cupac_config={\n",
    "                \"cupac_model\": HistGradientBoostingRegressor(),\n",
    "                \"features_cupac_model\": [\"customer_id\", \"is_weekend\", \"hour_of_day\"],\n",
    "                \"target_col\": \"delivery_time\",\n",
    "            },\n",
    "        ),\n",
    "    ],\n",
    "    variants=[\n",
    "        Variant(name=\"A\", is_control=True),\n",
    "        Variant(name=\"B\", is_control=False),\n",
    "    ],\n",
    "    variant_col=\"treatment\",\n",
    ")"
   ]
  },
  {
   "cell_type": "code",
   "execution_count": 22,
   "metadata": {},
   "outputs": [
    {
     "data": {
      "text/html": [
       "<div>\n",
       "<style scoped>\n",
       "    .dataframe tbody tr th:only-of-type {\n",
       "        vertical-align: middle;\n",
       "    }\n",
       "\n",
       "    .dataframe tbody tr th {\n",
       "        vertical-align: top;\n",
       "    }\n",
       "\n",
       "    .dataframe thead th {\n",
       "        text-align: right;\n",
       "    }\n",
       "</style>\n",
       "<table border=\"1\" class=\"dataframe\">\n",
       "  <thead>\n",
       "    <tr style=\"text-align: right;\">\n",
       "      <th></th>\n",
       "      <th>metric_alias</th>\n",
       "      <th>control_variant_name</th>\n",
       "      <th>treatment_variant_name</th>\n",
       "      <th>control_variant_mean</th>\n",
       "      <th>treatment_variant_mean</th>\n",
       "      <th>analysis_type</th>\n",
       "      <th>ate</th>\n",
       "      <th>ate_ci_lower</th>\n",
       "      <th>ate_ci_upper</th>\n",
       "      <th>p_value</th>\n",
       "      <th>std_error</th>\n",
       "      <th>dimension_name</th>\n",
       "      <th>dimension_value</th>\n",
       "      <th>alpha</th>\n",
       "    </tr>\n",
       "  </thead>\n",
       "  <tbody>\n",
       "    <tr>\n",
       "      <th>0</th>\n",
       "      <td>AOV</td>\n",
       "      <td>A</td>\n",
       "      <td>B</td>\n",
       "      <td>82.007654</td>\n",
       "      <td>82.172876</td>\n",
       "      <td>clustered_ols</td>\n",
       "      <td>0.322643</td>\n",
       "      <td>-0.270459</td>\n",
       "      <td>0.915745</td>\n",
       "      <td>0.286331</td>\n",
       "      <td>0.302609</td>\n",
       "      <td>__total_dimension</td>\n",
       "      <td>total</td>\n",
       "      <td>0.05</td>\n",
       "    </tr>\n",
       "    <tr>\n",
       "      <th>1</th>\n",
       "      <td>delivery_time</td>\n",
       "      <td>A</td>\n",
       "      <td>B</td>\n",
       "      <td>9.299918</td>\n",
       "      <td>9.452242</td>\n",
       "      <td>clustered_ols</td>\n",
       "      <td>0.107405</td>\n",
       "      <td>0.062609</td>\n",
       "      <td>0.152201</td>\n",
       "      <td>0.000003</td>\n",
       "      <td>0.022856</td>\n",
       "      <td>__total_dimension</td>\n",
       "      <td>total</td>\n",
       "      <td>0.05</td>\n",
       "    </tr>\n",
       "  </tbody>\n",
       "</table>\n",
       "</div>"
      ],
      "text/plain": [
       "    metric_alias control_variant_name treatment_variant_name  \\\n",
       "0            AOV                    A                      B   \n",
       "1  delivery_time                    A                      B   \n",
       "\n",
       "   control_variant_mean  treatment_variant_mean  analysis_type       ate  \\\n",
       "0             82.007654               82.172876  clustered_ols  0.322643   \n",
       "1              9.299918                9.452242  clustered_ols  0.107405   \n",
       "\n",
       "   ate_ci_lower  ate_ci_upper   p_value  std_error     dimension_name  \\\n",
       "0     -0.270459      0.915745  0.286331   0.302609  __total_dimension   \n",
       "1      0.062609      0.152201  0.000003   0.022856  __total_dimension   \n",
       "\n",
       "  dimension_value  alpha  \n",
       "0           total   0.05  \n",
       "1           total   0.05  "
      ]
     },
     "execution_count": 22,
     "metadata": {},
     "output_type": "execute_result"
    }
   ],
   "source": [
    "plan_cupac.analyze(\n",
    "    real_experiment_data,\n",
    "    real_pre_experiment_data,\n",
    ").to_dataframe()"
   ]
  },
  {
   "cell_type": "code",
   "execution_count": null,
   "metadata": {},
   "outputs": [],
   "source": []
  }
 ],
 "metadata": {
  "kernelspec": {
   "display_name": "cluster-experiments",
   "language": "python",
   "name": "python3"
  },
  "language_info": {
   "codemirror_mode": {
    "name": "ipython",
    "version": 3
   },
   "file_extension": ".py",
   "mimetype": "text/x-python",
   "name": "python",
   "nbconvert_exporter": "python",
   "pygments_lexer": "ipython3",
   "version": "3.9.6"
  }
 },
 "nbformat": 4,
 "nbformat_minor": 2
}
